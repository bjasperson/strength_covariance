{
 "cells": [
  {
   "cell_type": "markdown",
   "metadata": {},
   "source": [
    "# Strength predictions using DFT predictor properties\n",
    "Ben Jasperson\n",
    "2023-08-31"
   ]
  },
  {
   "cell_type": "code",
   "execution_count": 61,
   "metadata": {},
   "outputs": [],
   "source": [
    "import pandas as pd\n",
    "import numpy as np\n",
    "import matplotlib.pyplot as plt\n",
    "import seaborn as sns\n",
    "from strength_covariance.model_selection import basic_outlier_removal\n",
    "from sklearn.impute import KNNImputer\n",
    "from sklearn.preprocessing import StandardScaler, PolynomialFeatures\n",
    "from sklearn.compose import TransformedTargetRegressor\n",
    "from sklearn.decomposition import PCA\n",
    "from sklearn.pipeline import Pipeline\n",
    "from sklearn import linear_model, svm\n",
    "from sklearn.utils import resample\n",
    "from sklearn.metrics import r2_score\n",
    "from scipy import stats"
   ]
  },
  {
   "cell_type": "markdown",
   "metadata": {},
   "source": [
    "Only use the predictors which we have DFT data for"
   ]
  },
  {
   "cell_type": "code",
   "execution_count": 62,
   "metadata": {},
   "outputs": [],
   "source": [
    "params_list_full = ['bulk_modulus_fcc',\n",
    "                    'c44_fcc',\n",
    "                    'surface_energy_111_fcc',\n",
    "                    'unstable_stack_energy_fcc',\n",
    "                    'intr_stack_fault_energy_fcc']  # for dft"
   ]
  },
  {
   "cell_type": "markdown",
   "metadata": {},
   "source": [
    "Note that we do \"basic outlier removal\" for canonical properties, which is the same as what is done for the paper."
   ]
  },
  {
   "cell_type": "code",
   "execution_count": 63,
   "metadata": {},
   "outputs": [],
   "source": [
    "def initialize_model():\n",
    "    df_in = pd.read_csv(\"./data/models_w_props.csv\")\n",
    "    df_in = df_in.drop([i for i in df_in.columns if 'diamond' in i], axis=1)\n",
    "\n",
    "    if 'disqualified' in df_in.columns:\n",
    "        df_in = df_in.drop('disqualified', axis=1)\n",
    "\n",
    "    df_in = df_in.drop([i for i in df_in.columns if 'diamond' in i], axis=1)\n",
    "    df_in = df_in.drop(['thermal_expansion_coeff_bcc',\n",
    "                        'surface_energy_100_bcc',\n",
    "                        'surface_energy_110_bcc',\n",
    "                        'surface_energy_111_bcc',\n",
    "                        'surface_energy_121_bcc'], axis=1)\n",
    "\n",
    "    df_clean = basic_outlier_removal(df_in)\n",
    "\n",
    "    # set parameters\n",
    "    \n",
    "    X = df_clean[params_list_full]\n",
    "    y = df_clean['strength_MPa']\n",
    "\n",
    "    # create pipeline\n",
    "    imput = KNNImputer(n_neighbors=2, weights=\"uniform\",\n",
    "                       keep_empty_features=True)\n",
    "    pca = PCA()\n",
    "    #model = linear_model.LinearRegression()\n",
    "    model = svm.SVR(kernel='rbf')\n",
    "\n",
    "    pipe = Pipeline(steps=[('scale', StandardScaler()),\n",
    "                           ('imp', imput),\n",
    "                           ('pca', pca),\n",
    "                           ('lr', model)])\n",
    "    pipe = TransformedTargetRegressor(regressor=pipe,\n",
    "                                      transformer=StandardScaler())\n",
    "\n",
    "    pipe.fit(X, y)\n",
    "\n",
    "    return df_clean, X, y, pipe\n"
   ]
  },
  {
   "cell_type": "code",
   "execution_count": 64,
   "metadata": {},
   "outputs": [
    {
     "data": {
      "text/html": [
       "<div>\n",
       "<style scoped>\n",
       "    .dataframe tbody tr th:only-of-type {\n",
       "        vertical-align: middle;\n",
       "    }\n",
       "\n",
       "    .dataframe tbody tr th {\n",
       "        vertical-align: top;\n",
       "    }\n",
       "\n",
       "    .dataframe thead th {\n",
       "        text-align: right;\n",
       "    }\n",
       "</style>\n",
       "<table border=\"1\" class=\"dataframe\">\n",
       "  <thead>\n",
       "    <tr style=\"text-align: right;\">\n",
       "      <th></th>\n",
       "      <th>bulk_modulus_fcc</th>\n",
       "      <th>c44_fcc</th>\n",
       "      <th>surface_energy_111_fcc</th>\n",
       "      <th>unstable_stack_energy_fcc</th>\n",
       "      <th>intr_stack_fault_energy_fcc</th>\n",
       "    </tr>\n",
       "  </thead>\n",
       "  <tbody>\n",
       "    <tr>\n",
       "      <th>0</th>\n",
       "      <td>104.391428</td>\n",
       "      <td>47.119833</td>\n",
       "      <td>0.038761</td>\n",
       "      <td>0.012775</td>\n",
       "      <td>0.001334</td>\n",
       "    </tr>\n",
       "    <tr>\n",
       "      <th>1</th>\n",
       "      <td>104.391429</td>\n",
       "      <td>47.194087</td>\n",
       "      <td>0.038761</td>\n",
       "      <td>0.012775</td>\n",
       "      <td>0.001334</td>\n",
       "    </tr>\n",
       "    <tr>\n",
       "      <th>2</th>\n",
       "      <td>103.740224</td>\n",
       "      <td>56.802226</td>\n",
       "      <td>0.038601</td>\n",
       "      <td>0.007298</td>\n",
       "      <td>0.000088</td>\n",
       "    </tr>\n",
       "    <tr>\n",
       "      <th>3</th>\n",
       "      <td>103.741350</td>\n",
       "      <td>56.845225</td>\n",
       "      <td>0.038514</td>\n",
       "      <td>0.007112</td>\n",
       "      <td>0.000082</td>\n",
       "    </tr>\n",
       "    <tr>\n",
       "      <th>4</th>\n",
       "      <td>103.997554</td>\n",
       "      <td>46.550733</td>\n",
       "      <td>0.053816</td>\n",
       "      <td>0.007060</td>\n",
       "      <td>0.001107</td>\n",
       "    </tr>\n",
       "  </tbody>\n",
       "</table>\n",
       "</div>"
      ],
      "text/plain": [
       "   bulk_modulus_fcc    c44_fcc  surface_energy_111_fcc  \\\n",
       "0        104.391428  47.119833                0.038761   \n",
       "1        104.391429  47.194087                0.038761   \n",
       "2        103.740224  56.802226                0.038601   \n",
       "3        103.741350  56.845225                0.038514   \n",
       "4        103.997554  46.550733                0.053816   \n",
       "\n",
       "   unstable_stack_energy_fcc  intr_stack_fault_energy_fcc  \n",
       "0                   0.012775                     0.001334  \n",
       "1                   0.012775                     0.001334  \n",
       "2                   0.007298                     0.000088  \n",
       "3                   0.007112                     0.000082  \n",
       "4                   0.007060                     0.001107  "
      ]
     },
     "execution_count": 64,
     "metadata": {},
     "output_type": "execute_result"
    }
   ],
   "source": [
    "df_clean, X, y, pipe = initialize_model()\n",
    "X.head()"
   ]
  },
  {
   "cell_type": "markdown",
   "metadata": {},
   "source": [
    "We need to convert surface energy units."
   ]
  },
  {
   "cell_type": "code",
   "execution_count": 65,
   "metadata": {},
   "outputs": [],
   "source": [
    "def se_unit_convert(df):\n",
    "    #J/m^2 to eV/angstrom^2\n",
    "    return df*6.241509e+18*1.0E-20"
   ]
  },
  {
   "cell_type": "markdown",
   "metadata": {},
   "source": [
    "Import the DFT dataset and convert the surface energies"
   ]
  },
  {
   "cell_type": "code",
   "execution_count": 66,
   "metadata": {},
   "outputs": [
    {
     "data": {
      "text/html": [
       "<div>\n",
       "<style scoped>\n",
       "    .dataframe tbody tr th:only-of-type {\n",
       "        vertical-align: middle;\n",
       "    }\n",
       "\n",
       "    .dataframe tbody tr th {\n",
       "        vertical-align: top;\n",
       "    }\n",
       "\n",
       "    .dataframe thead th {\n",
       "        text-align: right;\n",
       "    }\n",
       "</style>\n",
       "<table border=\"1\" class=\"dataframe\">\n",
       "  <thead>\n",
       "    <tr style=\"text-align: right;\">\n",
       "      <th></th>\n",
       "      <th>species</th>\n",
       "      <th>bulk_modulus_fcc</th>\n",
       "      <th>c44_fcc</th>\n",
       "      <th>C11-C12</th>\n",
       "      <th>surface_energy_111_fcc</th>\n",
       "      <th>surface_energy_112_fcc</th>\n",
       "      <th>surface_energy_100_fcc</th>\n",
       "      <th>unstable_stack_energy_fcc</th>\n",
       "      <th>intr_stack_fault_energy_fcc</th>\n",
       "      <th>a0</th>\n",
       "      <th>units</th>\n",
       "    </tr>\n",
       "  </thead>\n",
       "  <tbody>\n",
       "    <tr>\n",
       "      <th>0</th>\n",
       "      <td>Ag</td>\n",
       "      <td>92.8612</td>\n",
       "      <td>41.2075</td>\n",
       "      <td>31.0503</td>\n",
       "      <td>0.044252</td>\n",
       "      <td>0.050806</td>\n",
       "      <td>0.049370</td>\n",
       "      <td>0.006472</td>\n",
       "      <td>0.001067</td>\n",
       "      <td>4.1457</td>\n",
       "      <td>{‘bulk_modulus_unit_fcc’:’GPa’, ‘elastic_const...</td>\n",
       "    </tr>\n",
       "    <tr>\n",
       "      <th>1</th>\n",
       "      <td>Al</td>\n",
       "      <td>76.0248</td>\n",
       "      <td>33.6604</td>\n",
       "      <td>53.4132</td>\n",
       "      <td>0.050868</td>\n",
       "      <td>0.059045</td>\n",
       "      <td>0.058608</td>\n",
       "      <td>0.010430</td>\n",
       "      <td>0.007602</td>\n",
       "      <td>4.0378</td>\n",
       "      <td>{‘bulk_modulus_unit_fcc’:’GPa’, ‘elastic_const...</td>\n",
       "    </tr>\n",
       "    <tr>\n",
       "      <th>2</th>\n",
       "      <td>Au</td>\n",
       "      <td>144.4053</td>\n",
       "      <td>26.5289</td>\n",
       "      <td>20.9309</td>\n",
       "      <td>0.043441</td>\n",
       "      <td>0.050244</td>\n",
       "      <td>0.054176</td>\n",
       "      <td>0.005418</td>\n",
       "      <td>0.001872</td>\n",
       "      <td>4.1539</td>\n",
       "      <td>{‘bulk_modulus_unit_fcc’:’GPa’, ‘elastic_const...</td>\n",
       "    </tr>\n",
       "    <tr>\n",
       "      <th>3</th>\n",
       "      <td>Cu</td>\n",
       "      <td>133.9783</td>\n",
       "      <td>79.5973</td>\n",
       "      <td>53.4236</td>\n",
       "      <td>0.080203</td>\n",
       "      <td>0.092686</td>\n",
       "      <td>0.090315</td>\n",
       "      <td>0.011104</td>\n",
       "      <td>0.002628</td>\n",
       "      <td>3.6239</td>\n",
       "      <td>{‘bulk_modulus_unit_fcc’:’GPa’, ‘elastic_const...</td>\n",
       "    </tr>\n",
       "    <tr>\n",
       "      <th>4</th>\n",
       "      <td>Ni</td>\n",
       "      <td>206.5840</td>\n",
       "      <td>117.5921</td>\n",
       "      <td>83.1221</td>\n",
       "      <td>0.114032</td>\n",
       "      <td>0.140808</td>\n",
       "      <td>0.139810</td>\n",
       "      <td>0.017851</td>\n",
       "      <td>0.008919</td>\n",
       "      <td>3.5036</td>\n",
       "      <td>{‘bulk_modulus_unit_fcc’:’GPa’, ‘elastic_const...</td>\n",
       "    </tr>\n",
       "  </tbody>\n",
       "</table>\n",
       "</div>"
      ],
      "text/plain": [
       "  species  bulk_modulus_fcc   c44_fcc  C11-C12  surface_energy_111_fcc  \\\n",
       "0      Ag           92.8612   41.2075  31.0503                0.044252   \n",
       "1      Al           76.0248   33.6604  53.4132                0.050868   \n",
       "2      Au          144.4053   26.5289  20.9309                0.043441   \n",
       "3      Cu          133.9783   79.5973  53.4236                0.080203   \n",
       "4      Ni          206.5840  117.5921  83.1221                0.114032   \n",
       "\n",
       "   surface_energy_112_fcc  surface_energy_100_fcc  unstable_stack_energy_fcc  \\\n",
       "0                0.050806                0.049370                   0.006472   \n",
       "1                0.059045                0.058608                   0.010430   \n",
       "2                0.050244                0.054176                   0.005418   \n",
       "3                0.092686                0.090315                   0.011104   \n",
       "4                0.140808                0.139810                   0.017851   \n",
       "\n",
       "   intr_stack_fault_energy_fcc      a0  \\\n",
       "0                     0.001067  4.1457   \n",
       "1                     0.007602  4.0378   \n",
       "2                     0.001872  4.1539   \n",
       "3                     0.002628  3.6239   \n",
       "4                     0.008919  3.5036   \n",
       "\n",
       "                                               units  \n",
       "0  {‘bulk_modulus_unit_fcc’:’GPa’, ‘elastic_const...  \n",
       "1  {‘bulk_modulus_unit_fcc’:’GPa’, ‘elastic_const...  \n",
       "2  {‘bulk_modulus_unit_fcc’:’GPa’, ‘elastic_const...  \n",
       "3  {‘bulk_modulus_unit_fcc’:’GPa’, ‘elastic_const...  \n",
       "4  {‘bulk_modulus_unit_fcc’:’GPa’, ‘elastic_const...  "
      ]
     },
     "execution_count": 66,
     "metadata": {},
     "output_type": "execute_result"
    }
   ],
   "source": [
    "df_dft = pd.read_csv(\"./data/dft.csv\")\n",
    "se_list = ['surface_energy_111_fcc', 'surface_energy_112_fcc',\n",
    "       'surface_energy_100_fcc', 'unstable_stack_energy_fcc',\n",
    "       'intr_stack_fault_energy_fcc']\n",
    "df_dft[se_list] = se_unit_convert(df_dft[se_list])\n",
    "df_dft.head()"
   ]
  },
  {
   "cell_type": "markdown",
   "metadata": {},
   "source": [
    "Make a prediction using DFT data"
   ]
  },
  {
   "cell_type": "code",
   "execution_count": 67,
   "metadata": {},
   "outputs": [
    {
     "data": {
      "text/html": [
       "<div>\n",
       "<style scoped>\n",
       "    .dataframe tbody tr th:only-of-type {\n",
       "        vertical-align: middle;\n",
       "    }\n",
       "\n",
       "    .dataframe tbody tr th {\n",
       "        vertical-align: top;\n",
       "    }\n",
       "\n",
       "    .dataframe thead th {\n",
       "        text-align: right;\n",
       "    }\n",
       "</style>\n",
       "<table border=\"1\" class=\"dataframe\">\n",
       "  <thead>\n",
       "    <tr style=\"text-align: right;\">\n",
       "      <th></th>\n",
       "      <th>species</th>\n",
       "      <th>strength [MPa]</th>\n",
       "    </tr>\n",
       "  </thead>\n",
       "  <tbody>\n",
       "    <tr>\n",
       "      <th>0</th>\n",
       "      <td>Ag</td>\n",
       "      <td>807.944826</td>\n",
       "    </tr>\n",
       "    <tr>\n",
       "      <th>1</th>\n",
       "      <td>Al</td>\n",
       "      <td>1028.648382</td>\n",
       "    </tr>\n",
       "    <tr>\n",
       "      <th>2</th>\n",
       "      <td>Au</td>\n",
       "      <td>813.772657</td>\n",
       "    </tr>\n",
       "    <tr>\n",
       "      <th>3</th>\n",
       "      <td>Cu</td>\n",
       "      <td>1269.025660</td>\n",
       "    </tr>\n",
       "    <tr>\n",
       "      <th>4</th>\n",
       "      <td>Ni</td>\n",
       "      <td>2034.352762</td>\n",
       "    </tr>\n",
       "    <tr>\n",
       "      <th>5</th>\n",
       "      <td>Pd</td>\n",
       "      <td>1160.944855</td>\n",
       "    </tr>\n",
       "    <tr>\n",
       "      <th>6</th>\n",
       "      <td>Pt</td>\n",
       "      <td>1343.664503</td>\n",
       "    </tr>\n",
       "  </tbody>\n",
       "</table>\n",
       "</div>"
      ],
      "text/plain": [
       "  species  strength [MPa]\n",
       "0      Ag      807.944826\n",
       "1      Al     1028.648382\n",
       "2      Au      813.772657\n",
       "3      Cu     1269.025660\n",
       "4      Ni     2034.352762\n",
       "5      Pd     1160.944855\n",
       "6      Pt     1343.664503"
      ]
     },
     "execution_count": 67,
     "metadata": {},
     "output_type": "execute_result"
    }
   ],
   "source": [
    "X_dft = df_dft[params_list_full]\n",
    "species_list = df_dft.species\n",
    "y_dft = pipe.predict(X_dft)\n",
    "dft_predicted_strength = pd.DataFrame({'species':species_list,\n",
    "                                       'strength [MPa]':y_dft})\n",
    "dft_predicted_strength"
   ]
  },
  {
   "cell_type": "code",
   "execution_count": 77,
   "metadata": {},
   "outputs": [
    {
     "data": {
      "text/plain": [
       "<matplotlib.collections.PathCollection at 0x7faae1602c10>"
      ]
     },
     "execution_count": 77,
     "metadata": {},
     "output_type": "execute_result"
    },
    {
     "data": {
      "image/png": "[encoded data removed]",
      "text/plain": [
       "<Figure size 640x480 with 1 Axes>"
      ]
     },
     "metadata": {},
     "output_type": "display_data"
    }
   ],
   "source": [
    "order_list = [\"Ag\",\"Al\",\"Au\",\"Cu\",\"Ni\",\"Pd\",\"Pt\"]\n",
    "g = sns.boxplot(data = df_clean, x=\"species\", y=\"strength_MPa\", order=order_list)\n",
    "g.scatter(data = dft_predicted_strength, x=\"species\",y=\"strength [MPa]\", marker=\"X\", color=\"r\", s=100)"
   ]
  },
  {
   "cell_type": "code",
   "execution_count": null,
   "metadata": {},
   "outputs": [],
   "source": []
  }
 ],
 "metadata": {
  "kernelspec": {
   "display_name": "umn",
   "language": "python",
   "name": "python3"
  },
  "language_info": {
   "codemirror_mode": {
    "name": "ipython",
    "version": 3
   },
   "file_extension": ".py",
   "mimetype": "text/x-python",
   "name": "python",
   "nbconvert_exporter": "python",
   "pygments_lexer": "ipython3",
   "version": "3.8.16"
  },
  "orig_nbformat": 4
 },
 "nbformat": 4,
 "nbformat_minor": 2
}
