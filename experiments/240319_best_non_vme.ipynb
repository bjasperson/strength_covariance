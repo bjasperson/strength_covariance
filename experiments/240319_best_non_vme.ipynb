{
 "cells": [
  {
   "cell_type": "code",
   "execution_count": 44,
   "metadata": {},
   "outputs": [],
   "source": [
    "import pandas as pd\n",
    "from ast import literal_eval"
   ]
  },
  {
   "cell_type": "code",
   "execution_count": 45,
   "metadata": {},
   "outputs": [
    {
     "data": {
      "text/html": [
       "<div>\n",
       "<style scoped>\n",
       "    .dataframe tbody tr th:only-of-type {\n",
       "        vertical-align: middle;\n",
       "    }\n",
       "\n",
       "    .dataframe tbody tr th {\n",
       "        vertical-align: top;\n",
       "    }\n",
       "\n",
       "    .dataframe thead th {\n",
       "        text-align: right;\n",
       "    }\n",
       "</style>\n",
       "<table border=\"1\" class=\"dataframe\">\n",
       "  <thead>\n",
       "    <tr style=\"text-align: right;\">\n",
       "      <th></th>\n",
       "      <th>Unnamed: 0</th>\n",
       "      <th>factors</th>\n",
       "      <th>r2_cv_score</th>\n",
       "      <th>rmse_cv_score</th>\n",
       "    </tr>\n",
       "  </thead>\n",
       "  <tbody>\n",
       "    <tr>\n",
       "      <th>0</th>\n",
       "      <td>2487</td>\n",
       "      <td>['vacancy_migration_energy_fcc', 'c44_fcc', 'e...</td>\n",
       "      <td>0.854654</td>\n",
       "      <td>-199.139421</td>\n",
       "    </tr>\n",
       "    <tr>\n",
       "      <th>1</th>\n",
       "      <td>1632</td>\n",
       "      <td>['ideal_surface_energy_100_fcc', 'vacancy_migr...</td>\n",
       "      <td>0.854180</td>\n",
       "      <td>-201.045691</td>\n",
       "    </tr>\n",
       "    <tr>\n",
       "      <th>2</th>\n",
       "      <td>2489</td>\n",
       "      <td>['vacancy_migration_energy_fcc', 'c44_fcc', 'u...</td>\n",
       "      <td>0.852189</td>\n",
       "      <td>-198.208854</td>\n",
       "    </tr>\n",
       "    <tr>\n",
       "      <th>3</th>\n",
       "      <td>1635</td>\n",
       "      <td>['ideal_surface_energy_100_fcc', 'vacancy_migr...</td>\n",
       "      <td>0.850675</td>\n",
       "      <td>-203.161198</td>\n",
       "    </tr>\n",
       "    <tr>\n",
       "      <th>4</th>\n",
       "      <td>2342</td>\n",
       "      <td>['vacancy_migration_energy_fcc', 'intr_stack_f...</td>\n",
       "      <td>0.847667</td>\n",
       "      <td>-206.777942</td>\n",
       "    </tr>\n",
       "  </tbody>\n",
       "</table>\n",
       "</div>"
      ],
      "text/plain": [
       "   Unnamed: 0                                            factors  r2_cv_score  \\\n",
       "0        2487  ['vacancy_migration_energy_fcc', 'c44_fcc', 'e...     0.854654   \n",
       "1        1632  ['ideal_surface_energy_100_fcc', 'vacancy_migr...     0.854180   \n",
       "2        2489  ['vacancy_migration_energy_fcc', 'c44_fcc', 'u...     0.852189   \n",
       "3        1635  ['ideal_surface_energy_100_fcc', 'vacancy_migr...     0.850675   \n",
       "4        2342  ['vacancy_migration_energy_fcc', 'intr_stack_f...     0.847667   \n",
       "\n",
       "   rmse_cv_score  \n",
       "0    -199.139421  \n",
       "1    -201.045691  \n",
       "2    -198.208854  \n",
       "3    -203.161198  \n",
       "4    -206.777942  "
      ]
     },
     "execution_count": 45,
     "metadata": {},
     "output_type": "execute_result"
    }
   ],
   "source": [
    "df = pd.read_csv('../strength_covariance/model_ays/kfold_lr_models.csv')\n",
    "df.head()"
   ]
  },
  {
   "cell_type": "code",
   "execution_count": 46,
   "metadata": {},
   "outputs": [
    {
     "name": "stdout",
     "output_type": "stream",
     "text": [
      "[(216, \"['unstable_stack_energy_fcc', 'intr_stack_fault_energy_fcc', 'c44_fcc']\", 0.7795613132809811), (328, \"['unstable_stack_energy_fcc', 'cohesive_energy_fcc', 'c44_fcc']\", 0.7573474649458087), (368, \"['unstable_stack_energy_fcc', 'lattice_constant_fcc', 'c44_fcc']\", 0.7455185492506727), (379, \"['unstable_stack_energy_fcc', 'relaxation_volume_fcc', 'c44_fcc']\", 0.7426056563670842), (401, \"['unstable_stack_energy_fcc', 'lattice_constant_sc', 'c44_fcc']\", 0.7356134973436947)]\n"
     ]
    }
   ],
   "source": [
    "to_use = []\n",
    "for i,row in df.iterrows():\n",
    "    if 'vacancy_migration_energy' not in row.factors:\n",
    "        if 'unstable_twinning' not in row.factors:\n",
    "            to_use.append((i,row.factors,row.r2_cv_score))\n",
    "print(to_use[:5])\n"
   ]
  },
  {
   "cell_type": "code",
   "execution_count": null,
   "metadata": {},
   "outputs": [],
   "source": []
  }
 ],
 "metadata": {
  "kernelspec": {
   "display_name": "umn",
   "language": "python",
   "name": "python3"
  },
  "language_info": {
   "codemirror_mode": {
    "name": "ipython",
    "version": 3
   },
   "file_extension": ".py",
   "mimetype": "text/x-python",
   "name": "python",
   "nbconvert_exporter": "python",
   "pygments_lexer": "ipython3",
   "version": "3.8.16"
  }
 },
 "nbformat": 4,
 "nbformat_minor": 2
}
